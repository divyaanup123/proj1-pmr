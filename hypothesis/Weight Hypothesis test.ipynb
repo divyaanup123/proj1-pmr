{
 "cells": [
  {
   "cell_type": "code",
   "execution_count": 11,
   "id": "bfcafdef-5626-43de-bcb9-a87b40761418",
   "metadata": {},
   "outputs": [
    {
     "name": "stdout",
     "output_type": "stream",
     "text": [
      "Results have been saved to bmi_hypothesis_test_results.txt\n",
      "Here are the contents of the file:\n",
      "Hypothesis Test: Comparison of Pregnancy-Related Mortality Rates\n",
      "Obese III (40+) vs. Underweight/Normal weight (<25)\n",
      "\n",
      "Test: Independent Samples t-test\n",
      "\n",
      "Results:\n",
      "t-statistic: 7.8183\n",
      "p-value: 1.6592e-07\n",
      "\n",
      "Mean Rates:\n",
      "Underweight/Normal weight (<25): 8.15\n",
      "Obese III (40+): 45.15\n",
      "\n",
      "Percentage Difference:\n",
      "The pregnancy-related mortality rate for Obese III (40+) is 453.73% higher than Underweight/Normal weight (<25).\n",
      "\n",
      "Interpretation:\n",
      "The difference in mortality rates between the two groups is statistically significant.\n",
      "\n"
     ]
    }
   ],
   "source": [
    "import pandas as pd\n",
    "import numpy as np\n",
    "from scipy import stats\n",
    "\n",
    "# Load the data\n",
    "df = pd.read_csv('Data-Pregnancy-Related-Mortality.csv')\n",
    "\n",
    "# Filter for the two categories we're interested in\n",
    "categories = ['Underweight/Normal weight (<25)', 'Obese III (40+)']\n",
    "filtered_df = df[df['Subcategory'].isin(categories)].copy()  # Use .copy() to avoid SettingWithCopyWarning\n",
    "\n",
    "# Convert 'Rate' to numeric, dropping any non-numeric values\n",
    "filtered_df['Rate'] = pd.to_numeric(filtered_df['Rate'], errors='coerce')\n",
    "\n",
    "# Separate the data into two groups\n",
    "normal_weight = filtered_df[filtered_df['Subcategory'] == 'Underweight/Normal weight (<25)']['Rate'].dropna()\n",
    "obese_iii = filtered_df[filtered_df['Subcategory'] == 'Obese III (40+)']['Rate'].dropna()\n",
    "\n",
    "# Perform the t-test\n",
    "t_statistic, p_value = stats.ttest_ind(obese_iii, normal_weight)\n",
    "\n",
    "# Calculate mean rates\n",
    "mean_normal = normal_weight.mean()\n",
    "mean_obese_iii = obese_iii.mean()\n",
    "\n",
    "# Calculate the percentage difference\n",
    "percent_difference = ((mean_obese_iii - mean_normal) / mean_normal) * 100\n",
    "\n",
    "# Prepare the summary\n",
    "summary = f\"\"\"Hypothesis Test: Comparison of Pregnancy-Related Mortality Rates\n",
    "Obese III (40+) vs. Underweight/Normal weight (<25)\n",
    "\n",
    "Test: Independent Samples t-test\n",
    "\n",
    "Results:\n",
    "t-statistic: {t_statistic:.4f}\n",
    "p-value: {p_value:.4e}\n",
    "\n",
    "Mean Rates:\n",
    "Underweight/Normal weight (<25): {mean_normal:.2f}\n",
    "Obese III (40+): {mean_obese_iii:.2f}\n",
    "\n",
    "Percentage Difference:\n",
    "The pregnancy-related mortality rate for Obese III (40+) is {percent_difference:.2f}% higher than Underweight/Normal weight (<25).\n",
    "\n",
    "Interpretation:\n",
    "{'The difference in mortality rates between the two groups is statistically significant.' if p_value < 0.05 else 'The difference in mortality rates between the two groups is not statistically significant.'}\n",
    "\"\"\"\n",
    "\n",
    "# Save the summary to a text file\n",
    "with open('bmi_hypothesis_test_results.txt', 'w') as f:\n",
    "    f.write(summary)\n",
    "\n",
    "print('Results have been saved to bmi_hypothesis_test_results.txt')\n",
    "print('\\\n",
    "Here are the contents of the file:')\n",
    "print(summary)\n"
   ]
  },
  {
   "cell_type": "code",
   "execution_count": null,
   "id": "b2eb648c-3326-4b1c-a5f3-f2731fbaa855",
   "metadata": {},
   "outputs": [],
   "source": []
  }
 ],
 "metadata": {
  "kernelspec": {
   "display_name": "Python 3 (ipykernel)",
   "language": "python",
   "name": "python3"
  },
  "language_info": {
   "codemirror_mode": {
    "name": "ipython",
    "version": 3
   },
   "file_extension": ".py",
   "mimetype": "text/x-python",
   "name": "python",
   "nbconvert_exporter": "python",
   "pygments_lexer": "ipython3",
   "version": "3.12.4"
  }
 },
 "nbformat": 4,
 "nbformat_minor": 5
}
